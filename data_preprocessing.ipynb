{
 "cells": [
  {
   "cell_type": "markdown",
   "metadata": {},
   "source": [
    "## Data preprocessing"
   ]
  },
  {
   "cell_type": "markdown",
   "metadata": {},
   "source": [
    "Preprocesses classification and weather data.\n",
    "- Filter the right columns\n",
    "- Change columns to datetime\n",
    "- Make dummy variable\n",
    "- Make rain and temperature variable from the forecast of a week ago\n",
    "- merge dataframes"
   ]
  },
  {
   "cell_type": "code",
   "execution_count": 149,
   "metadata": {},
   "outputs": [],
   "source": [
    "# Import libraries\n",
    "import pandas as pd\n",
    "import datetime"
   ]
  },
  {
   "cell_type": "markdown",
   "metadata": {},
   "source": [
    "## Assess data"
   ]
  },
  {
   "cell_type": "code",
   "execution_count": 150,
   "metadata": {},
   "outputs": [
    {
     "name": "stdout",
     "output_type": "stream",
     "text": [
      "First 5 rows of the classification dataframe:\n",
      "   ritnummer verkeersdatum_ams  vertrekstationUicCode  aankomststationUicCode  \\\n",
      "0       5416        2021-07-05                8400733                 8400501   \n",
      "1       5441        2021-07-05                8400501                 8400733   \n",
      "2       5447        2021-07-05                8400501                 8400733   \n",
      "3       5448        2021-07-05                8400733                 8400501   \n",
      "4       5450        2021-07-05                8400733                 8400501   \n",
      "\n",
      "  aankomststationVerkorting vertrekstationVerkorting  classificatie  \\\n",
      "0                       OVN                      ZVT              1   \n",
      "1                       ZVT                      OVN              1   \n",
      "2                       ZVT                      OVN              1   \n",
      "3                       OVN                      ZVT              1   \n",
      "4                       OVN                      ZVT              1   \n",
      "\n",
      "         materieeltype             vertrekmoment_utc  \\\n",
      "0  [\"SGMM_3\",\"SGMM_3\"]  2021-07-05T06:04:00.000+0000   \n",
      "1    [\"SLT_6\",\"SLT_4\"]  2021-07-05T08:20:00.000+0000   \n",
      "2  [\"SGMM_3\",\"SGMM_3\"]  2021-07-05T09:50:00.000+0000   \n",
      "3    [\"SLT_4\",\"SLT_6\"]  2021-07-05T14:04:00.000+0000   \n",
      "4  [\"SGMM_3\",\"SGMM_3\"]  2021-07-05T14:34:00.000+0000   \n",
      "\n",
      "             aankomstmoment_utc  \n",
      "0  2021-07-05T06:10:00.000+0000  \n",
      "1  2021-07-05T08:26:00.000+0000  \n",
      "2  2021-07-05T09:56:00.000+0000  \n",
      "3  2021-07-05T14:10:00.000+0000  \n",
      "4  2021-07-05T14:40:00.000+0000  \n",
      "---------------------------\n",
      "First five rows of the weather dataframe:\n",
      "   forecast dt unixtime                forecast dt iso  slice dt unixtime  \\\n",
      "0            1625443200  2021-07-05 00:00:00 +0000 UTC         1625443200   \n",
      "1            1625443200  2021-07-05 00:00:00 +0000 UTC         1625446800   \n",
      "2            1625443200  2021-07-05 00:00:00 +0000 UTC         1625450400   \n",
      "3            1625443200  2021-07-05 00:00:00 +0000 UTC         1625454000   \n",
      "4            1625443200  2021-07-05 00:00:00 +0000 UTC         1625457600   \n",
      "\n",
      "                    slice dt iso        lat       lon  temperature  dew_point  \\\n",
      "0  2021-07-05 00:00:00 +0000 UTC  52.375916  4.531161        15.59      13.84   \n",
      "1  2021-07-05 01:00:00 +0000 UTC  52.375916  4.531161        15.58      13.14   \n",
      "2  2021-07-05 02:00:00 +0000 UTC  52.375916  4.531161        15.56      12.85   \n",
      "3  2021-07-05 03:00:00 +0000 UTC  52.375916  4.531161        15.54      12.84   \n",
      "4  2021-07-05 04:00:00 +0000 UTC  52.375916  4.531161        15.54      12.98   \n",
      "\n",
      "   pressure  ground_pressure  ...  rain  snow  ice  fr_rain  convective  \\\n",
      "0   1007.75          1007.63  ...  0.33     0    0        0       0.000   \n",
      "1   1007.58          1007.47  ...  0.42     0    0        0       0.000   \n",
      "2   1007.39          1007.28  ...  0.38     0    0        0       0.000   \n",
      "3   1007.21          1007.10  ...  0.27     0    0        0       0.229   \n",
      "4   1007.07          1006.96  ...  0.14     0    0        0       0.229   \n",
      "\n",
      "   snow_depth  accumulated  hours      rate  probability  \n",
      "0        3333         0.33      1  0.000000         0.00  \n",
      "1        3333         0.42      1  0.000072         0.30  \n",
      "2        3333         0.38      1  0.000092         0.43  \n",
      "3        3333         0.27      1  0.000075         0.45  \n",
      "4        3333         0.14      1  0.000042         0.40  \n",
      "\n",
      "[5 rows x 24 columns]\n"
     ]
    }
   ],
   "source": [
    "# Load data and show first 5 rows\n",
    "df_classification = pd.read_excel('data/classificatie_OVV_ZVT.xlsx')\n",
    "df_weather = pd.read_excel('data/openWeather20210705_20211001.xlsx')\n",
    "print('First 5 rows of the classification dataframe:')\n",
    "print(df_classification.head())\n",
    "print('---------------------------')\n",
    "print('First five rows of the weather dataframe:')\n",
    "print(df_weather.head())"
   ]
  },
  {
   "cell_type": "markdown",
   "metadata": {},
   "source": [
    "### Filter data"
   ]
  },
  {
   "cell_type": "code",
   "execution_count": 151,
   "metadata": {},
   "outputs": [],
   "source": [
    "## Filter data\n",
    "df_classification_filter = df_classification[['verkeersdatum_ams', 'aankomststationVerkorting', 'vertrekstationVerkorting', 'classificatie', 'vertrekmoment_utc']]\n",
    "df_weather_filter = df_weather[['forecast dt iso', 'slice dt iso', 'temperature', 'rain']]"
   ]
  },
  {
   "cell_type": "markdown",
   "metadata": {},
   "source": [
    "## Feature engineering"
   ]
  },
  {
   "cell_type": "code",
   "execution_count": 152,
   "metadata": {},
   "outputs": [
    {
     "name": "stderr",
     "output_type": "stream",
     "text": [
      "C:\\Users\\marieke.beerepoo_nsp\\AppData\\Local\\Temp\\ipykernel_11072\\1287926287.py:2: SettingWithCopyWarning: \n",
      "A value is trying to be set on a copy of a slice from a DataFrame.\n",
      "Try using .loc[row_indexer,col_indexer] = value instead\n",
      "\n",
      "See the caveats in the documentation: https://pandas.pydata.org/pandas-docs/stable/user_guide/indexing.html#returning-a-view-versus-a-copy\n",
      "  df_classification_filter['vertrekmoment_utc'] = pd.to_datetime(df_classification_filter['vertrekmoment_utc'])\n",
      "C:\\Users\\marieke.beerepoo_nsp\\AppData\\Local\\Temp\\ipykernel_11072\\1287926287.py:3: SettingWithCopyWarning: \n",
      "A value is trying to be set on a copy of a slice from a DataFrame.\n",
      "Try using .loc[row_indexer,col_indexer] = value instead\n",
      "\n",
      "See the caveats in the documentation: https://pandas.pydata.org/pandas-docs/stable/user_guide/indexing.html#returning-a-view-versus-a-copy\n",
      "  df_weather_filter['forecast dt iso'] = pd.to_datetime(df_weather_filter['forecast dt iso'], format='%Y-%m-%d %H:%M:%S %z UTC')\n",
      "C:\\Users\\marieke.beerepoo_nsp\\AppData\\Local\\Temp\\ipykernel_11072\\1287926287.py:4: SettingWithCopyWarning: \n",
      "A value is trying to be set on a copy of a slice from a DataFrame.\n",
      "Try using .loc[row_indexer,col_indexer] = value instead\n",
      "\n",
      "See the caveats in the documentation: https://pandas.pydata.org/pandas-docs/stable/user_guide/indexing.html#returning-a-view-versus-a-copy\n",
      "  df_weather_filter['slice dt iso'] = pd.to_datetime(df_weather_filter['slice dt iso'], format='%Y-%m-%d %H:%M:%S %z UTC')\n"
     ]
    }
   ],
   "source": [
    "# Change objects to datetime\n",
    "df_classification_filter['vertrekmoment_utc'] = pd.to_datetime(df_classification_filter['vertrekmoment_utc'])\n",
    "df_weather_filter['forecast dt iso'] = pd.to_datetime(df_weather_filter['forecast dt iso'], format='%Y-%m-%d %H:%M:%S %z UTC')\n",
    "df_weather_filter['slice dt iso'] = pd.to_datetime(df_weather_filter['slice dt iso'], format='%Y-%m-%d %H:%M:%S %z UTC')"
   ]
  },
  {
   "cell_type": "code",
   "execution_count": 153,
   "metadata": {},
   "outputs": [],
   "source": [
    "# Define rush hour times\n",
    "start_morning_rush = datetime.time(8, 0, 0)\n",
    "end_morning_rush = datetime.time(10, 30, 0)\n",
    "start_evening_rush = datetime.time(16, 0, 0)\n",
    "end_evening_rush = datetime.time(18, 0, 0)"
   ]
  },
  {
   "cell_type": "code",
   "execution_count": 154,
   "metadata": {},
   "outputs": [
    {
     "name": "stderr",
     "output_type": "stream",
     "text": [
      "C:\\Users\\marieke.beerepoo_nsp\\AppData\\Local\\Temp\\ipykernel_11072\\3533730179.py:2: SettingWithCopyWarning: \n",
      "A value is trying to be set on a copy of a slice from a DataFrame.\n",
      "Try using .loc[row_indexer,col_indexer] = value instead\n",
      "\n",
      "See the caveats in the documentation: https://pandas.pydata.org/pandas-docs/stable/user_guide/indexing.html#returning-a-view-versus-a-copy\n",
      "  df_classification_filter['morning_rush_hour_dummy'] = df_classification_filter['vertrekmoment_utc'].apply(lambda x: 1 if start_morning_rush <= x.time() <= end_morning_rush else 0)\n",
      "C:\\Users\\marieke.beerepoo_nsp\\AppData\\Local\\Temp\\ipykernel_11072\\3533730179.py:3: SettingWithCopyWarning: \n",
      "A value is trying to be set on a copy of a slice from a DataFrame.\n",
      "Try using .loc[row_indexer,col_indexer] = value instead\n",
      "\n",
      "See the caveats in the documentation: https://pandas.pydata.org/pandas-docs/stable/user_guide/indexing.html#returning-a-view-versus-a-copy\n",
      "  df_classification_filter['evening_rush_hour_dummy'] = df_classification_filter['vertrekmoment_utc'].apply(lambda x: 1 if start_evening_rush <= x.time() <= end_evening_rush else 0)\n"
     ]
    }
   ],
   "source": [
    "# Make rush hour dummies\n",
    "df_classification_filter['morning_rush_hour_dummy'] = df_classification_filter['vertrekmoment_utc'].apply(lambda x: 1 if start_morning_rush <= x.time() <= end_morning_rush else 0)\n",
    "df_classification_filter['evening_rush_hour_dummy'] = df_classification_filter['vertrekmoment_utc'].apply(lambda x: 1 if start_evening_rush <= x.time() <= end_evening_rush else 0)"
   ]
  },
  {
   "cell_type": "code",
   "execution_count": 155,
   "metadata": {},
   "outputs": [
    {
     "name": "stderr",
     "output_type": "stream",
     "text": [
      "C:\\Users\\marieke.beerepoo_nsp\\AppData\\Local\\Temp\\ipykernel_11072\\2208506372.py:2: SettingWithCopyWarning: \n",
      "A value is trying to be set on a copy of a slice from a DataFrame.\n",
      "Try using .loc[row_indexer,col_indexer] = value instead\n",
      "\n",
      "See the caveats in the documentation: https://pandas.pydata.org/pandas-docs/stable/user_guide/indexing.html#returning-a-view-versus-a-copy\n",
      "  df_classification_filter['weekend_dummy'] = df_classification_filter['vertrekmoment_utc'].apply(lambda x: 1 if x.weekday()<5 else 0)\n"
     ]
    }
   ],
   "source": [
    "# Make week/weekend dummy\n",
    "df_classification_filter['weekend_dummy'] = df_classification_filter['vertrekmoment_utc'].apply(lambda x: 1 if x.weekday()<5 else 0)"
   ]
  },
  {
   "cell_type": "code",
   "execution_count": 156,
   "metadata": {},
   "outputs": [
    {
     "name": "stderr",
     "output_type": "stream",
     "text": [
      "C:\\Users\\marieke.beerepoo_nsp\\AppData\\Local\\Temp\\ipykernel_11072\\503191178.py:3: FutureWarning: Indexing with multiple keys (implicitly converted to a tuple of keys) will be deprecated, use a list instead.\n",
      "  df_weather_filter = df_weather_filter.groupby(df_weather_filter['slice dt iso'].dt.date)['temperature', 'rain'].mean().reset_index()\n"
     ]
    }
   ],
   "source": [
    "# We want the temperature and rain prediction of a week ago\n",
    "df_weather_filter = df_weather_filter[df_weather_filter['forecast dt iso'].dt.date == df_weather_filter['slice dt iso'].dt.date - pd.DateOffset(days=7)]\n",
    "df_weather_filter = df_weather_filter.groupby(df_weather_filter['slice dt iso'].dt.date)['temperature', 'rain'].mean().reset_index()"
   ]
  },
  {
   "cell_type": "markdown",
   "metadata": {},
   "source": [
    "### Merge dataframes"
   ]
  },
  {
   "cell_type": "code",
   "execution_count": 157,
   "metadata": {},
   "outputs": [],
   "source": [
    "# Merge the two datafrrames\n",
    "df_weather_filter['slice dt iso'] = pd.to_datetime(df_weather_filter['slice dt iso'])\n",
    "merged_df = pd.merge(df_weather_filter, df_classification_filter, left_on='slice dt iso', right_on='verkeersdatum_ams')\n"
   ]
  },
  {
   "cell_type": "markdown",
   "metadata": {},
   "source": [
    "## Save preprocessed data"
   ]
  },
  {
   "cell_type": "code",
   "execution_count": 160,
   "metadata": {},
   "outputs": [],
   "source": [
    "merged_df.to_csv('data/preprocessed_df.csv', index=False)"
   ]
  },
  {
   "cell_type": "code",
   "execution_count": null,
   "metadata": {},
   "outputs": [],
   "source": []
  }
 ],
 "metadata": {
  "kernelspec": {
   "display_name": "base",
   "language": "python",
   "name": "python3"
  },
  "language_info": {
   "codemirror_mode": {
    "name": "ipython",
    "version": 3
   },
   "file_extension": ".py",
   "mimetype": "text/x-python",
   "name": "python",
   "nbconvert_exporter": "python",
   "pygments_lexer": "ipython3",
   "version": "3.10.9"
  },
  "orig_nbformat": 4
 },
 "nbformat": 4,
 "nbformat_minor": 2
}
