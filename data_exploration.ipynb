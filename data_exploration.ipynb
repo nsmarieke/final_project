{
 "cells": [
  {
   "cell_type": "markdown",
   "metadata": {},
   "source": [
    "## This notebook contains the data exploration and visualization of the data"
   ]
  },
  {
   "cell_type": "markdown",
   "metadata": {},
   "source": [
    "## Business Understanding"
   ]
  },
  {
   "cell_type": "markdown",
   "metadata": {},
   "source": [
    "The route between Zandvoort and Overveen is a route with quite a lot of day travelers, because of the beach at Zandvoort. This would suggest more travelers on hot summer days. When it is already hot outside it would not be ideal to be in a very crowded (hot) train. To give these travelers an option to travel with a slightly less crowded train we like to predict the crowd level of the train. Such that we can communicate this with the traveler as an indication of how crowdy the train is."
   ]
  },
  {
   "cell_type": "markdown",
   "metadata": {},
   "source": [
    "## Question of interest"
   ]
  },
  {
   "cell_type": "markdown",
   "metadata": {},
   "source": [
    "How crowdy are the trains"
   ]
  },
  {
   "cell_type": "markdown",
   "metadata": {},
   "source": [
    "## Data Understanding"
   ]
  },
  {
   "cell_type": "code",
   "execution_count": 1,
   "metadata": {},
   "outputs": [],
   "source": [
    "# Import libraries\n",
    "import pandas as pd\n",
    "import matplotlib.pyplot as plt"
   ]
  },
  {
   "cell_type": "markdown",
   "metadata": {},
   "source": [
    "## Assess data"
   ]
  },
  {
   "cell_type": "code",
   "execution_count": 2,
   "metadata": {},
   "outputs": [
    {
     "name": "stdout",
     "output_type": "stream",
     "text": [
      "First 5 rows of the classification dataframe:\n",
      "   ritnummer verkeersdatum_ams  vertrekstationUicCode  aankomststationUicCode  \\\n",
      "0       5416        2021-07-05                8400733                 8400501   \n",
      "1       5441        2021-07-05                8400501                 8400733   \n",
      "2       5447        2021-07-05                8400501                 8400733   \n",
      "3       5448        2021-07-05                8400733                 8400501   \n",
      "4       5450        2021-07-05                8400733                 8400501   \n",
      "\n",
      "  aankomststationVerkorting vertrekstationVerkorting  classificatie  \\\n",
      "0                       OVN                      ZVT              1   \n",
      "1                       ZVT                      OVN              1   \n",
      "2                       ZVT                      OVN              1   \n",
      "3                       OVN                      ZVT              1   \n",
      "4                       OVN                      ZVT              1   \n",
      "\n",
      "         materieeltype             vertrekmoment_utc  \\\n",
      "0  [\"SGMM_3\",\"SGMM_3\"]  2021-07-05T06:04:00.000+0000   \n",
      "1    [\"SLT_6\",\"SLT_4\"]  2021-07-05T08:20:00.000+0000   \n",
      "2  [\"SGMM_3\",\"SGMM_3\"]  2021-07-05T09:50:00.000+0000   \n",
      "3    [\"SLT_4\",\"SLT_6\"]  2021-07-05T14:04:00.000+0000   \n",
      "4  [\"SGMM_3\",\"SGMM_3\"]  2021-07-05T14:34:00.000+0000   \n",
      "\n",
      "             aankomstmoment_utc  \n",
      "0  2021-07-05T06:10:00.000+0000  \n",
      "1  2021-07-05T08:26:00.000+0000  \n",
      "2  2021-07-05T09:56:00.000+0000  \n",
      "3  2021-07-05T14:10:00.000+0000  \n",
      "4  2021-07-05T14:40:00.000+0000  \n",
      "---------------------------\n",
      "First five rows of the weather dataframe:\n",
      "   forecast dt unixtime                forecast dt iso  slice dt unixtime  \\\n",
      "0            1625443200  2021-07-05 00:00:00 +0000 UTC         1625443200   \n",
      "1            1625443200  2021-07-05 00:00:00 +0000 UTC         1625446800   \n",
      "2            1625443200  2021-07-05 00:00:00 +0000 UTC         1625450400   \n",
      "3            1625443200  2021-07-05 00:00:00 +0000 UTC         1625454000   \n",
      "4            1625443200  2021-07-05 00:00:00 +0000 UTC         1625457600   \n",
      "\n",
      "                    slice dt iso        lat       lon  temperature  dew_point  \\\n",
      "0  2021-07-05 00:00:00 +0000 UTC  52.375916  4.531161        15.59      13.84   \n",
      "1  2021-07-05 01:00:00 +0000 UTC  52.375916  4.531161        15.58      13.14   \n",
      "2  2021-07-05 02:00:00 +0000 UTC  52.375916  4.531161        15.56      12.85   \n",
      "3  2021-07-05 03:00:00 +0000 UTC  52.375916  4.531161        15.54      12.84   \n",
      "4  2021-07-05 04:00:00 +0000 UTC  52.375916  4.531161        15.54      12.98   \n",
      "\n",
      "   pressure  ground_pressure  ...  rain  snow  ice  fr_rain  convective  \\\n",
      "0   1007.75          1007.63  ...  0.33     0    0        0       0.000   \n",
      "1   1007.58          1007.47  ...  0.42     0    0        0       0.000   \n",
      "2   1007.39          1007.28  ...  0.38     0    0        0       0.000   \n",
      "3   1007.21          1007.10  ...  0.27     0    0        0       0.229   \n",
      "4   1007.07          1006.96  ...  0.14     0    0        0       0.229   \n",
      "\n",
      "   snow_depth  accumulated  hours      rate  probability  \n",
      "0        3333         0.33      1  0.000000         0.00  \n",
      "1        3333         0.42      1  0.000072         0.30  \n",
      "2        3333         0.38      1  0.000092         0.43  \n",
      "3        3333         0.27      1  0.000075         0.45  \n",
      "4        3333         0.14      1  0.000042         0.40  \n",
      "\n",
      "[5 rows x 24 columns]\n"
     ]
    }
   ],
   "source": [
    "# Load data and show first 5 rows\n",
    "df_classification = pd.read_excel('data/classificatie_OVV_ZVT.xlsx')\n",
    "df_weather = pd.read_excel('data/openWeather20210705_20211001.xlsx')\n",
    "print('First 5 rows of the classification dataframe:')\n",
    "print(df_classification.head())\n",
    "print('---------------------------')\n",
    "print('First five rows of the weather dataframe:')\n",
    "print(df_weather.head())"
   ]
  },
  {
   "cell_type": "markdown",
   "metadata": {},
   "source": [
    "## Explore data"
   ]
  },
  {
   "cell_type": "markdown",
   "metadata": {},
   "source": [
    "### Classification dataset"
   ]
  },
  {
   "cell_type": "code",
   "execution_count": 3,
   "metadata": {},
   "outputs": [],
   "source": [
    "shape_df = df_classification.shape\n",
    "columns_nan = set(df_classification.columns[df_classification.isnull().mean()!=0])\n",
    "number_columns_nan = len(columns_nan)\n",
    "df_dtypes = df_classification.dtypes\n",
    "count_classification = df_classification['classificatie'].value_counts()\n",
    "df_years = df_classification['verkeersdatum_ams'].dt.year.unique()\n",
    "df_months = df_classification['verkeersdatum_ams'].dt.month.unique()\n",
    "stations_arrival = df_classification['aankomststationVerkorting'].unique()\n",
    "stations_departure = df_classification['vertrekstationVerkorting'].unique()"
   ]
  },
  {
   "cell_type": "code",
   "execution_count": 4,
   "metadata": {},
   "outputs": [
    {
     "name": "stdout",
     "output_type": "stream",
     "text": [
      "Number of rows: 9667 number of columns: 10\n",
      "columns with NaN values: set() , number of columns 0\n",
      "The dtypes of the columns:\n",
      "ritnummer                             int64\n",
      "verkeersdatum_ams            datetime64[ns]\n",
      "vertrekstationUicCode                 int64\n",
      "aankomststationUicCode                int64\n",
      "aankomststationVerkorting            object\n",
      "vertrekstationVerkorting             object\n",
      "classificatie                         int64\n",
      "materieeltype                        object\n",
      "vertrekmoment_utc                    object\n",
      "aankomstmoment_utc                   object\n",
      "dtype: object\n",
      "The unique classification types with there number of occurrences:\n",
      "1    9337\n",
      "2     223\n",
      "3     107\n",
      "Name: classificatie, dtype: int64\n",
      "Unique years: [2021]\n",
      "Unique months: [7 8 9]\n",
      "Arrival stations: ['OVN' 'ZVT']\n",
      "Departure station ['ZVT' 'OVN']\n"
     ]
    }
   ],
   "source": [
    "print('Number of rows:', shape_df[0], 'number of columns:', shape_df[1])\n",
    "print('columns with NaN values:', columns_nan, ', number of columns', number_columns_nan)\n",
    "print('The dtypes of the columns:')\n",
    "print(df_dtypes)\n",
    "print('The unique classification types with there number of occurrences:')\n",
    "print(count_classification)\n",
    "print('Unique years:', df_years)\n",
    "print('Unique months:', df_months)\n",
    "print('Arrival stations:', stations_arrival)\n",
    "print('Departure station', stations_departure)"
   ]
  },
  {
   "cell_type": "markdown",
   "metadata": {},
   "source": [
    "## Observations"
   ]
  },
  {
   "cell_type": "markdown",
   "metadata": {},
   "source": [
    "- There are no columns with NaN values, which means the dataset does not contain NaNs.\n",
    "- The presence of classification 1 in the dataset is high.\n",
    "- Dataset contains the months July, August and September of 2021\n",
    "- The dataset contains OVN (Overveen) and ZVT (Zandvoort) as arrival and departure stations"
   ]
  },
  {
   "cell_type": "markdown",
   "metadata": {},
   "source": [
    "## Data visualization"
   ]
  },
  {
   "cell_type": "code",
   "execution_count": 5,
   "metadata": {},
   "outputs": [
    {
     "data": {
      "text/plain": [
       "Text(0.5, 1.0, 'Count of each classification')"
      ]
     },
     "execution_count": 5,
     "metadata": {},
     "output_type": "execute_result"
    },
    {
     "data": {
      "image/png": "[encoded data removed]",
      "text/plain": [
       "<Figure size 640x480 with 1 Axes>"
      ]
     },
     "metadata": {},
     "output_type": "display_data"
    }
   ],
   "source": [
    "# Plot classification\n",
    "plt.bar(count_classification.index, count_classification.values)\n",
    "plt.xlabel('Classification')\n",
    "plt.ylabel('Count')\n",
    "plt.title('Count of each classification')"
   ]
  },
  {
   "cell_type": "markdown",
   "metadata": {},
   "source": [
    "## Observations"
   ]
  },
  {
   "cell_type": "markdown",
   "metadata": {},
   "source": [
    "- The presence of classification 1 in the dataset is by far the highest."
   ]
  },
  {
   "cell_type": "markdown",
   "metadata": {},
   "source": [
    "### Weather dataset"
   ]
  },
  {
   "cell_type": "code",
   "execution_count": 20,
   "metadata": {},
   "outputs": [
    {
     "name": "stdout",
     "output_type": "stream",
     "text": [
      "0         2021-07-05 00:00:00 +0000 UTC\n",
      "1         2021-07-05 00:00:00 +0000 UTC\n",
      "2         2021-07-05 00:00:00 +0000 UTC\n",
      "3         2021-07-05 00:00:00 +0000 UTC\n",
      "4         2021-07-05 00:00:00 +0000 UTC\n",
      "                      ...              \n",
      "135515    2021-09-30 18:00:00 +0000 UTC\n",
      "135516    2021-09-30 18:00:00 +0000 UTC\n",
      "135517    2021-09-30 18:00:00 +0000 UTC\n",
      "135518    2021-09-30 18:00:00 +0000 UTC\n",
      "135519    2021-09-30 18:00:00 +0000 UTC\n",
      "Name: forecast dt iso, Length: 135520, dtype: object\n"
     ]
    }
   ],
   "source": [
    "shape_df = df_weather.shape\n",
    "columns_nan = set(df_weather.columns[df_weather.isnull().mean()!=0])\n",
    "number_columns_nan = len(columns_nan)\n",
    "df_dtypes = df_weather.dtypes\n",
    "# count_classification = df_classification['classificatie'].value_counts()\n",
    "print(df_weather['forecast dt iso'])\n",
    "df_weather['forecast dt iso'] = pd.to_datetime(df_weather['forecast dt iso'], format='%Y-%m-%d %H:%M:%S %z UTC')\n",
    "df_years = df_weather['forecast dt iso'].dt.year.unique()\n",
    "df_months = df_weather['forecast dt iso'].dt.month.unique()\n",
    "# stations_arrival = df_classification['aankomststationVerkorting'].unique()\n",
    "# stations_departure = df_classification['vertrekstationVerkorting'].unique()"
   ]
  },
  {
   "cell_type": "code",
   "execution_count": 19,
   "metadata": {},
   "outputs": [
    {
     "name": "stdout",
     "output_type": "stream",
     "text": [
      "Number of rows: 135520 number of columns: 24\n",
      "columns with NaN values: set() , number of columns 0\n",
      "The dtypes of the columns:\n",
      "forecast dt unixtime      int64\n",
      "forecast dt iso          object\n",
      "slice dt unixtime         int64\n",
      "slice dt iso             object\n",
      "lat                     float64\n",
      "lon                     float64\n",
      "temperature             float64\n",
      "dew_point               float64\n",
      "pressure                float64\n",
      "ground_pressure         float64\n",
      "humidity                float64\n",
      "clouds                    int64\n",
      "wind_speed              float64\n",
      "wind_deg                float64\n",
      "rain                    float64\n",
      "snow                      int64\n",
      "ice                       int64\n",
      "fr_rain                   int64\n",
      "convective              float64\n",
      "snow_depth                int64\n",
      "accumulated             float64\n",
      "hours                     int64\n",
      "rate                    float64\n",
      "probability             float64\n",
      "dtype: object\n"
     ]
    }
   ],
   "source": [
    "print('Number of rows:', shape_df[0], 'number of columns:', shape_df[1])\n",
    "print('columns with NaN values:', columns_nan, ', number of columns', number_columns_nan)\n",
    "print('The dtypes of the columns:')\n",
    "print(df_dtypes)\n",
    "# print('The unique classification types with there number of occurrences:')\n",
    "# print(count_classification)\n",
    "print('Unique years:', df_years)\n",
    "print('Unique months:', df_months)\n",
    "# print('Arrival stations:', stations_arrival)\n",
    "# print('Departure station', stations_departure)"
   ]
  },
  {
   "cell_type": "code",
   "execution_count": null,
   "metadata": {},
   "outputs": [],
   "source": []
  }
 ],
 "metadata": {
  "kernelspec": {
   "display_name": "Python 3",
   "language": "python",
   "name": "python3"
  },
  "language_info": {
   "codemirror_mode": {
    "name": "ipython",
    "version": 3
   },
   "file_extension": ".py",
   "mimetype": "text/x-python",
   "name": "python",
   "nbconvert_exporter": "python",
   "pygments_lexer": "ipython3",
   "version": "3.10.9"
  },
  "orig_nbformat": 4
 },
 "nbformat": 4,
 "nbformat_minor": 2
}
